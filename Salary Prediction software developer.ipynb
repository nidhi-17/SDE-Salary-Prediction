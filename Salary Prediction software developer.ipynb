{
 "cells": [
  {
   "cell_type": "code",
   "execution_count": 1,
   "id": "bf5e1ec8",
   "metadata": {},
   "outputs": [],
   "source": [
    "import pandas as pd"
   ]
  },
  {
   "cell_type": "code",
   "execution_count": 2,
   "id": "1906226d",
   "metadata": {},
   "outputs": [],
   "source": [
    "df=pd.read_csv('survey_results_public.csv')"
   ]
  },
  {
   "cell_type": "code",
   "execution_count": 3,
   "id": "2321f715",
   "metadata": {},
   "outputs": [
    {
     "data": {
      "text/plain": [
       "Index(['ResponseId', 'MainBranch', 'Employment', 'Country', 'US_State',\n",
       "       'UK_Country', 'EdLevel', 'Age1stCode', 'LearnCode', 'YearsCode',\n",
       "       'YearsCodePro', 'DevType', 'OrgSize', 'Currency', 'CompTotal',\n",
       "       'CompFreq', 'LanguageHaveWorkedWith', 'LanguageWantToWorkWith',\n",
       "       'DatabaseHaveWorkedWith', 'DatabaseWantToWorkWith',\n",
       "       'PlatformHaveWorkedWith', 'PlatformWantToWorkWith',\n",
       "       'WebframeHaveWorkedWith', 'WebframeWantToWorkWith',\n",
       "       'MiscTechHaveWorkedWith', 'MiscTechWantToWorkWith',\n",
       "       'ToolsTechHaveWorkedWith', 'ToolsTechWantToWorkWith',\n",
       "       'NEWCollabToolsHaveWorkedWith', 'NEWCollabToolsWantToWorkWith', 'OpSys',\n",
       "       'NEWStuck', 'NEWSOSites', 'SOVisitFreq', 'SOAccount', 'SOPartFreq',\n",
       "       'SOComm', 'NEWOtherComms', 'Age', 'Gender', 'Trans', 'Sexuality',\n",
       "       'Ethnicity', 'Accessibility', 'MentalHealth', 'SurveyLength',\n",
       "       'SurveyEase', 'ConvertedCompYearly'],\n",
       "      dtype='object')"
      ]
     },
     "execution_count": 3,
     "metadata": {},
     "output_type": "execute_result"
    }
   ],
   "source": [
    "df.columns"
   ]
  },
  {
   "cell_type": "code",
   "execution_count": 4,
   "id": "be0cab3f",
   "metadata": {},
   "outputs": [
    {
     "data": {
      "text/plain": [
       "0         62268.0\n",
       "1             NaN\n",
       "2             NaN\n",
       "3             NaN\n",
       "4             NaN\n",
       "           ...   \n",
       "83434    160500.0\n",
       "83435      3960.0\n",
       "83436     90000.0\n",
       "83437    816816.0\n",
       "83438     21168.0\n",
       "Name: ConvertedCompYearly, Length: 83439, dtype: float64"
      ]
     },
     "execution_count": 4,
     "metadata": {},
     "output_type": "execute_result"
    }
   ],
   "source": [
    "df['ConvertedCompYearly']"
   ]
  },
  {
   "cell_type": "code",
   "execution_count": 5,
   "id": "86bf26bc",
   "metadata": {},
   "outputs": [],
   "source": [
    "df=df[['Employment','EdLevel','Country','YearsCodePro','ConvertedCompYearly']]"
   ]
  },
  {
   "cell_type": "code",
   "execution_count": 6,
   "id": "24ed2e05",
   "metadata": {},
   "outputs": [],
   "source": [
    "import numpy as np"
   ]
  },
  {
   "cell_type": "code",
   "execution_count": 7,
   "id": "ef687049",
   "metadata": {},
   "outputs": [
    {
     "data": {
      "text/plain": [
       "pandas.core.series.Series"
      ]
     },
     "execution_count": 7,
     "metadata": {},
     "output_type": "execute_result"
    }
   ],
   "source": [
    "type(df['YearsCodePro'])"
   ]
  },
  {
   "cell_type": "code",
   "execution_count": 8,
   "id": "814628a9",
   "metadata": {},
   "outputs": [
    {
     "data": {
      "text/plain": [
       "Employment               116\n",
       "EdLevel                  313\n",
       "Country                    0\n",
       "YearsCodePro           22223\n",
       "ConvertedCompYearly    36595\n",
       "dtype: int64"
      ]
     },
     "execution_count": 8,
     "metadata": {},
     "output_type": "execute_result"
    }
   ],
   "source": [
    "df.isnull().sum()"
   ]
  },
  {
   "cell_type": "code",
   "execution_count": 9,
   "id": "32eabcff",
   "metadata": {},
   "outputs": [],
   "source": [
    "df=df.rename({'ConvertedCompYearly':'Salary'},axis=1)"
   ]
  },
  {
   "cell_type": "code",
   "execution_count": 10,
   "id": "7a8e7b02",
   "metadata": {},
   "outputs": [
    {
     "data": {
      "text/html": [
       "<div>\n",
       "<style scoped>\n",
       "    .dataframe tbody tr th:only-of-type {\n",
       "        vertical-align: middle;\n",
       "    }\n",
       "\n",
       "    .dataframe tbody tr th {\n",
       "        vertical-align: top;\n",
       "    }\n",
       "\n",
       "    .dataframe thead th {\n",
       "        text-align: right;\n",
       "    }\n",
       "</style>\n",
       "<table border=\"1\" class=\"dataframe\">\n",
       "  <thead>\n",
       "    <tr style=\"text-align: right;\">\n",
       "      <th></th>\n",
       "      <th>Employment</th>\n",
       "      <th>EdLevel</th>\n",
       "      <th>Country</th>\n",
       "      <th>YearsCodePro</th>\n",
       "      <th>Salary</th>\n",
       "    </tr>\n",
       "  </thead>\n",
       "  <tbody>\n",
       "    <tr>\n",
       "      <th>0</th>\n",
       "      <td>Independent contractor, freelancer, or self-em...</td>\n",
       "      <td>Secondary school (e.g. American high school, G...</td>\n",
       "      <td>Slovakia</td>\n",
       "      <td>NaN</td>\n",
       "      <td>62268.0</td>\n",
       "    </tr>\n",
       "    <tr>\n",
       "      <th>1</th>\n",
       "      <td>Student, full-time</td>\n",
       "      <td>Bachelor’s degree (B.A., B.S., B.Eng., etc.)</td>\n",
       "      <td>Netherlands</td>\n",
       "      <td>NaN</td>\n",
       "      <td>NaN</td>\n",
       "    </tr>\n",
       "    <tr>\n",
       "      <th>2</th>\n",
       "      <td>Student, full-time</td>\n",
       "      <td>Bachelor’s degree (B.A., B.S., B.Eng., etc.)</td>\n",
       "      <td>Russian Federation</td>\n",
       "      <td>NaN</td>\n",
       "      <td>NaN</td>\n",
       "    </tr>\n",
       "    <tr>\n",
       "      <th>3</th>\n",
       "      <td>Employed full-time</td>\n",
       "      <td>Master’s degree (M.A., M.S., M.Eng., MBA, etc.)</td>\n",
       "      <td>Austria</td>\n",
       "      <td>NaN</td>\n",
       "      <td>NaN</td>\n",
       "    </tr>\n",
       "    <tr>\n",
       "      <th>4</th>\n",
       "      <td>Independent contractor, freelancer, or self-em...</td>\n",
       "      <td>Master’s degree (M.A., M.S., M.Eng., MBA, etc.)</td>\n",
       "      <td>United Kingdom of Great Britain and Northern I...</td>\n",
       "      <td>10</td>\n",
       "      <td>NaN</td>\n",
       "    </tr>\n",
       "    <tr>\n",
       "      <th>5</th>\n",
       "      <td>Student, part-time</td>\n",
       "      <td>Bachelor’s degree (B.A., B.S., B.Eng., etc.)</td>\n",
       "      <td>United States of America</td>\n",
       "      <td>NaN</td>\n",
       "      <td>NaN</td>\n",
       "    </tr>\n",
       "    <tr>\n",
       "      <th>6</th>\n",
       "      <td>I prefer not to say</td>\n",
       "      <td>Secondary school (e.g. American high school, G...</td>\n",
       "      <td>United States of America</td>\n",
       "      <td>NaN</td>\n",
       "      <td>NaN</td>\n",
       "    </tr>\n",
       "    <tr>\n",
       "      <th>7</th>\n",
       "      <td>Student, full-time</td>\n",
       "      <td>Bachelor’s degree (B.A., B.S., B.Eng., etc.)</td>\n",
       "      <td>Malaysia</td>\n",
       "      <td>NaN</td>\n",
       "      <td>NaN</td>\n",
       "    </tr>\n",
       "    <tr>\n",
       "      <th>8</th>\n",
       "      <td>Employed part-time</td>\n",
       "      <td>Bachelor’s degree (B.A., B.S., B.Eng., etc.)</td>\n",
       "      <td>India</td>\n",
       "      <td>4</td>\n",
       "      <td>NaN</td>\n",
       "    </tr>\n",
       "    <tr>\n",
       "      <th>9</th>\n",
       "      <td>Employed full-time</td>\n",
       "      <td>Master’s degree (M.A., M.S., M.Eng., MBA, etc.)</td>\n",
       "      <td>Sweden</td>\n",
       "      <td>4</td>\n",
       "      <td>51552.0</td>\n",
       "    </tr>\n",
       "  </tbody>\n",
       "</table>\n",
       "</div>"
      ],
      "text/plain": [
       "                                          Employment  \\\n",
       "0  Independent contractor, freelancer, or self-em...   \n",
       "1                                 Student, full-time   \n",
       "2                                 Student, full-time   \n",
       "3                                 Employed full-time   \n",
       "4  Independent contractor, freelancer, or self-em...   \n",
       "5                                 Student, part-time   \n",
       "6                                I prefer not to say   \n",
       "7                                 Student, full-time   \n",
       "8                                 Employed part-time   \n",
       "9                                 Employed full-time   \n",
       "\n",
       "                                             EdLevel  \\\n",
       "0  Secondary school (e.g. American high school, G...   \n",
       "1       Bachelor’s degree (B.A., B.S., B.Eng., etc.)   \n",
       "2       Bachelor’s degree (B.A., B.S., B.Eng., etc.)   \n",
       "3    Master’s degree (M.A., M.S., M.Eng., MBA, etc.)   \n",
       "4    Master’s degree (M.A., M.S., M.Eng., MBA, etc.)   \n",
       "5       Bachelor’s degree (B.A., B.S., B.Eng., etc.)   \n",
       "6  Secondary school (e.g. American high school, G...   \n",
       "7       Bachelor’s degree (B.A., B.S., B.Eng., etc.)   \n",
       "8       Bachelor’s degree (B.A., B.S., B.Eng., etc.)   \n",
       "9    Master’s degree (M.A., M.S., M.Eng., MBA, etc.)   \n",
       "\n",
       "                                             Country YearsCodePro   Salary  \n",
       "0                                           Slovakia          NaN  62268.0  \n",
       "1                                        Netherlands          NaN      NaN  \n",
       "2                                 Russian Federation          NaN      NaN  \n",
       "3                                            Austria          NaN      NaN  \n",
       "4  United Kingdom of Great Britain and Northern I...           10      NaN  \n",
       "5                           United States of America          NaN      NaN  \n",
       "6                           United States of America          NaN      NaN  \n",
       "7                                           Malaysia          NaN      NaN  \n",
       "8                                              India            4      NaN  \n",
       "9                                             Sweden            4  51552.0  "
      ]
     },
     "execution_count": 10,
     "metadata": {},
     "output_type": "execute_result"
    }
   ],
   "source": [
    "df.head(10)"
   ]
  },
  {
   "cell_type": "code",
   "execution_count": 11,
   "id": "0bc1b9a9",
   "metadata": {},
   "outputs": [],
   "source": [
    "df=df[df['Salary'].notnull()]"
   ]
  },
  {
   "cell_type": "code",
   "execution_count": 12,
   "id": "faf77c2e",
   "metadata": {},
   "outputs": [
    {
     "data": {
      "text/html": [
       "<div>\n",
       "<style scoped>\n",
       "    .dataframe tbody tr th:only-of-type {\n",
       "        vertical-align: middle;\n",
       "    }\n",
       "\n",
       "    .dataframe tbody tr th {\n",
       "        vertical-align: top;\n",
       "    }\n",
       "\n",
       "    .dataframe thead th {\n",
       "        text-align: right;\n",
       "    }\n",
       "</style>\n",
       "<table border=\"1\" class=\"dataframe\">\n",
       "  <thead>\n",
       "    <tr style=\"text-align: right;\">\n",
       "      <th></th>\n",
       "      <th>Employment</th>\n",
       "      <th>EdLevel</th>\n",
       "      <th>Country</th>\n",
       "      <th>YearsCodePro</th>\n",
       "      <th>Salary</th>\n",
       "    </tr>\n",
       "  </thead>\n",
       "  <tbody>\n",
       "    <tr>\n",
       "      <th>0</th>\n",
       "      <td>Independent contractor, freelancer, or self-em...</td>\n",
       "      <td>Secondary school (e.g. American high school, G...</td>\n",
       "      <td>Slovakia</td>\n",
       "      <td>NaN</td>\n",
       "      <td>62268.0</td>\n",
       "    </tr>\n",
       "    <tr>\n",
       "      <th>9</th>\n",
       "      <td>Employed full-time</td>\n",
       "      <td>Master’s degree (M.A., M.S., M.Eng., MBA, etc.)</td>\n",
       "      <td>Sweden</td>\n",
       "      <td>4</td>\n",
       "      <td>51552.0</td>\n",
       "    </tr>\n",
       "    <tr>\n",
       "      <th>11</th>\n",
       "      <td>Employed full-time</td>\n",
       "      <td>Bachelor’s degree (B.A., B.S., B.Eng., etc.)</td>\n",
       "      <td>Spain</td>\n",
       "      <td>5</td>\n",
       "      <td>46482.0</td>\n",
       "    </tr>\n",
       "    <tr>\n",
       "      <th>12</th>\n",
       "      <td>Employed full-time</td>\n",
       "      <td>Master’s degree (M.A., M.S., M.Eng., MBA, etc.)</td>\n",
       "      <td>Germany</td>\n",
       "      <td>6</td>\n",
       "      <td>77290.0</td>\n",
       "    </tr>\n",
       "    <tr>\n",
       "      <th>16</th>\n",
       "      <td>Employed full-time</td>\n",
       "      <td>Bachelor’s degree (B.A., B.S., B.Eng., etc.)</td>\n",
       "      <td>Turkey</td>\n",
       "      <td>2</td>\n",
       "      <td>17748.0</td>\n",
       "    </tr>\n",
       "    <tr>\n",
       "      <th>17</th>\n",
       "      <td>Employed full-time</td>\n",
       "      <td>Bachelor’s degree (B.A., B.S., B.Eng., etc.)</td>\n",
       "      <td>Canada</td>\n",
       "      <td>6</td>\n",
       "      <td>46135.0</td>\n",
       "    </tr>\n",
       "    <tr>\n",
       "      <th>18</th>\n",
       "      <td>I prefer not to say</td>\n",
       "      <td>Other doctoral degree (Ph.D., Ed.D., etc.)</td>\n",
       "      <td>Singapore</td>\n",
       "      <td>30</td>\n",
       "      <td>160932.0</td>\n",
       "    </tr>\n",
       "    <tr>\n",
       "      <th>23</th>\n",
       "      <td>Employed full-time</td>\n",
       "      <td>Master’s degree (M.A., M.S., M.Eng., MBA, etc.)</td>\n",
       "      <td>France</td>\n",
       "      <td>2</td>\n",
       "      <td>38915.0</td>\n",
       "    </tr>\n",
       "    <tr>\n",
       "      <th>24</th>\n",
       "      <td>Employed full-time</td>\n",
       "      <td>Master’s degree (M.A., M.S., M.Eng., MBA, etc.)</td>\n",
       "      <td>Germany</td>\n",
       "      <td>18</td>\n",
       "      <td>77831.0</td>\n",
       "    </tr>\n",
       "    <tr>\n",
       "      <th>26</th>\n",
       "      <td>Employed full-time</td>\n",
       "      <td>Master’s degree (M.A., M.S., M.Eng., MBA, etc.)</td>\n",
       "      <td>Switzerland</td>\n",
       "      <td>5</td>\n",
       "      <td>81319.0</td>\n",
       "    </tr>\n",
       "  </tbody>\n",
       "</table>\n",
       "</div>"
      ],
      "text/plain": [
       "                                           Employment  \\\n",
       "0   Independent contractor, freelancer, or self-em...   \n",
       "9                                  Employed full-time   \n",
       "11                                 Employed full-time   \n",
       "12                                 Employed full-time   \n",
       "16                                 Employed full-time   \n",
       "17                                 Employed full-time   \n",
       "18                                I prefer not to say   \n",
       "23                                 Employed full-time   \n",
       "24                                 Employed full-time   \n",
       "26                                 Employed full-time   \n",
       "\n",
       "                                              EdLevel      Country  \\\n",
       "0   Secondary school (e.g. American high school, G...     Slovakia   \n",
       "9     Master’s degree (M.A., M.S., M.Eng., MBA, etc.)       Sweden   \n",
       "11       Bachelor’s degree (B.A., B.S., B.Eng., etc.)        Spain   \n",
       "12    Master’s degree (M.A., M.S., M.Eng., MBA, etc.)      Germany   \n",
       "16       Bachelor’s degree (B.A., B.S., B.Eng., etc.)       Turkey   \n",
       "17       Bachelor’s degree (B.A., B.S., B.Eng., etc.)       Canada   \n",
       "18         Other doctoral degree (Ph.D., Ed.D., etc.)    Singapore   \n",
       "23    Master’s degree (M.A., M.S., M.Eng., MBA, etc.)       France   \n",
       "24    Master’s degree (M.A., M.S., M.Eng., MBA, etc.)      Germany   \n",
       "26    Master’s degree (M.A., M.S., M.Eng., MBA, etc.)  Switzerland   \n",
       "\n",
       "   YearsCodePro    Salary  \n",
       "0           NaN   62268.0  \n",
       "9             4   51552.0  \n",
       "11            5   46482.0  \n",
       "12            6   77290.0  \n",
       "16            2   17748.0  \n",
       "17            6   46135.0  \n",
       "18           30  160932.0  \n",
       "23            2   38915.0  \n",
       "24           18   77831.0  \n",
       "26            5   81319.0  "
      ]
     },
     "execution_count": 12,
     "metadata": {},
     "output_type": "execute_result"
    }
   ],
   "source": [
    "df.head(10)"
   ]
  },
  {
   "cell_type": "code",
   "execution_count": 13,
   "id": "98cdb98e",
   "metadata": {},
   "outputs": [],
   "source": [
    "df=df.dropna()"
   ]
  },
  {
   "cell_type": "code",
   "execution_count": 14,
   "id": "99dfc8c6",
   "metadata": {},
   "outputs": [
    {
     "data": {
      "text/plain": [
       "Employment      0\n",
       "EdLevel         0\n",
       "Country         0\n",
       "YearsCodePro    0\n",
       "Salary          0\n",
       "dtype: int64"
      ]
     },
     "execution_count": 14,
     "metadata": {},
     "output_type": "execute_result"
    }
   ],
   "source": [
    "df.isnull().sum()"
   ]
  },
  {
   "cell_type": "code",
   "execution_count": 15,
   "id": "6c854ada",
   "metadata": {},
   "outputs": [
    {
     "data": {
      "text/plain": [
       "array(['Employed full-time', 'I prefer not to say',\n",
       "       'Independent contractor, freelancer, or self-employed',\n",
       "       'Employed part-time', 'Retired'], dtype=object)"
      ]
     },
     "execution_count": 15,
     "metadata": {},
     "output_type": "execute_result"
    }
   ],
   "source": [
    "df['Employment'].unique()"
   ]
  },
  {
   "cell_type": "code",
   "execution_count": 16,
   "id": "93474159",
   "metadata": {},
   "outputs": [
    {
     "data": {
      "text/plain": [
       "array(['4', '5', '6', '2', '30', '18', '21', '16', '10',\n",
       "       'Less than 1 year', '15', '3', '1', '12', '8', '7', '17', '14',\n",
       "       '26', '25', '34', '11', '24', '22', '13', '9', '20', '31', '23',\n",
       "       '39', '27', '35', '19', '33', 'More than 50 years', '37', '43',\n",
       "       '40', '29', '38', '32', '45', '42', '28', '46', '36', '44', '47',\n",
       "       '41', '50', '49', '48'], dtype=object)"
      ]
     },
     "execution_count": 16,
     "metadata": {},
     "output_type": "execute_result"
    }
   ],
   "source": [
    "df['YearsCodePro'].unique()"
   ]
  },
  {
   "cell_type": "code",
   "execution_count": 17,
   "id": "0f741228",
   "metadata": {},
   "outputs": [],
   "source": [
    "def clean_education(x):\n",
    "    if 'Bachelor’s degree' in x:\n",
    "        return 'Bachelor’s degree'\n",
    "    if 'Master’s degree' in x:\n",
    "        return 'Master’s degree'\n",
    "    if 'Professional degree' in x or 'Other doctoral' in x:\n",
    "        return 'Post grad'\n",
    "    return 'Less than a Bachelors'\n",
    "df['EdLevel']=df['EdLevel'].apply(clean_education)"
   ]
  },
  {
   "cell_type": "code",
   "execution_count": 18,
   "id": "658a50ad",
   "metadata": {},
   "outputs": [],
   "source": [
    "def clean_emp(x):\n",
    "    if 'Employed full-time' in x:\n",
    "        return 'Employed full-time'\n",
    "    if 'Employed part-time' in x:\n",
    "        return 'Employed part-time'\n",
    "    if 'Independent contractor, freelancer, or self-employed' in x:\n",
    "        return 'self-employed'\n",
    "    if 'I prefer not to say' in x:\n",
    "        return 'prefer not to say'\n",
    "    if 'Retired' in x:\n",
    "        return 'Retired' \n",
    "df['Employment']=df['Employment'].apply(clean_emp)"
   ]
  },
  {
   "cell_type": "code",
   "execution_count": 19,
   "id": "b6462e92",
   "metadata": {},
   "outputs": [],
   "source": [
    "def clean_experience(x):\n",
    "    if x ==  'More than 50 years':\n",
    "        return 50\n",
    "    if x == 'Less than 1 year':\n",
    "        return 0.5\n",
    "    return float(x)\n",
    "\n",
    "df['YearsCodePro'] = df['YearsCodePro'].apply(clean_experience)"
   ]
  },
  {
   "cell_type": "code",
   "execution_count": 20,
   "id": "52fda322",
   "metadata": {},
   "outputs": [
    {
     "data": {
      "text/html": [
       "<div>\n",
       "<style scoped>\n",
       "    .dataframe tbody tr th:only-of-type {\n",
       "        vertical-align: middle;\n",
       "    }\n",
       "\n",
       "    .dataframe tbody tr th {\n",
       "        vertical-align: top;\n",
       "    }\n",
       "\n",
       "    .dataframe thead th {\n",
       "        text-align: right;\n",
       "    }\n",
       "</style>\n",
       "<table border=\"1\" class=\"dataframe\">\n",
       "  <thead>\n",
       "    <tr style=\"text-align: right;\">\n",
       "      <th></th>\n",
       "      <th>Employment</th>\n",
       "      <th>EdLevel</th>\n",
       "      <th>Country</th>\n",
       "      <th>YearsCodePro</th>\n",
       "      <th>Salary</th>\n",
       "    </tr>\n",
       "  </thead>\n",
       "  <tbody>\n",
       "    <tr>\n",
       "      <th>9</th>\n",
       "      <td>Employed full-time</td>\n",
       "      <td>Master’s degree</td>\n",
       "      <td>Sweden</td>\n",
       "      <td>4.0</td>\n",
       "      <td>51552.0</td>\n",
       "    </tr>\n",
       "    <tr>\n",
       "      <th>11</th>\n",
       "      <td>Employed full-time</td>\n",
       "      <td>Bachelor’s degree</td>\n",
       "      <td>Spain</td>\n",
       "      <td>5.0</td>\n",
       "      <td>46482.0</td>\n",
       "    </tr>\n",
       "    <tr>\n",
       "      <th>12</th>\n",
       "      <td>Employed full-time</td>\n",
       "      <td>Master’s degree</td>\n",
       "      <td>Germany</td>\n",
       "      <td>6.0</td>\n",
       "      <td>77290.0</td>\n",
       "    </tr>\n",
       "    <tr>\n",
       "      <th>16</th>\n",
       "      <td>Employed full-time</td>\n",
       "      <td>Bachelor’s degree</td>\n",
       "      <td>Turkey</td>\n",
       "      <td>2.0</td>\n",
       "      <td>17748.0</td>\n",
       "    </tr>\n",
       "    <tr>\n",
       "      <th>17</th>\n",
       "      <td>Employed full-time</td>\n",
       "      <td>Bachelor’s degree</td>\n",
       "      <td>Canada</td>\n",
       "      <td>6.0</td>\n",
       "      <td>46135.0</td>\n",
       "    </tr>\n",
       "    <tr>\n",
       "      <th>18</th>\n",
       "      <td>prefer not to say</td>\n",
       "      <td>Post grad</td>\n",
       "      <td>Singapore</td>\n",
       "      <td>30.0</td>\n",
       "      <td>160932.0</td>\n",
       "    </tr>\n",
       "    <tr>\n",
       "      <th>23</th>\n",
       "      <td>Employed full-time</td>\n",
       "      <td>Master’s degree</td>\n",
       "      <td>France</td>\n",
       "      <td>2.0</td>\n",
       "      <td>38915.0</td>\n",
       "    </tr>\n",
       "    <tr>\n",
       "      <th>24</th>\n",
       "      <td>Employed full-time</td>\n",
       "      <td>Master’s degree</td>\n",
       "      <td>Germany</td>\n",
       "      <td>18.0</td>\n",
       "      <td>77831.0</td>\n",
       "    </tr>\n",
       "    <tr>\n",
       "      <th>26</th>\n",
       "      <td>Employed full-time</td>\n",
       "      <td>Master’s degree</td>\n",
       "      <td>Switzerland</td>\n",
       "      <td>5.0</td>\n",
       "      <td>81319.0</td>\n",
       "    </tr>\n",
       "    <tr>\n",
       "      <th>27</th>\n",
       "      <td>Employed full-time</td>\n",
       "      <td>Bachelor’s degree</td>\n",
       "      <td>United Kingdom of Great Britain and Northern I...</td>\n",
       "      <td>21.0</td>\n",
       "      <td>68507.0</td>\n",
       "    </tr>\n",
       "  </tbody>\n",
       "</table>\n",
       "</div>"
      ],
      "text/plain": [
       "            Employment            EdLevel  \\\n",
       "9   Employed full-time    Master’s degree   \n",
       "11  Employed full-time  Bachelor’s degree   \n",
       "12  Employed full-time    Master’s degree   \n",
       "16  Employed full-time  Bachelor’s degree   \n",
       "17  Employed full-time  Bachelor’s degree   \n",
       "18   prefer not to say          Post grad   \n",
       "23  Employed full-time    Master’s degree   \n",
       "24  Employed full-time    Master’s degree   \n",
       "26  Employed full-time    Master’s degree   \n",
       "27  Employed full-time  Bachelor’s degree   \n",
       "\n",
       "                                              Country  YearsCodePro    Salary  \n",
       "9                                              Sweden           4.0   51552.0  \n",
       "11                                              Spain           5.0   46482.0  \n",
       "12                                            Germany           6.0   77290.0  \n",
       "16                                             Turkey           2.0   17748.0  \n",
       "17                                             Canada           6.0   46135.0  \n",
       "18                                          Singapore          30.0  160932.0  \n",
       "23                                             France           2.0   38915.0  \n",
       "24                                            Germany          18.0   77831.0  \n",
       "26                                        Switzerland           5.0   81319.0  \n",
       "27  United Kingdom of Great Britain and Northern I...          21.0   68507.0  "
      ]
     },
     "execution_count": 20,
     "metadata": {},
     "output_type": "execute_result"
    }
   ],
   "source": [
    "df.head(10)"
   ]
  },
  {
   "cell_type": "code",
   "execution_count": 21,
   "id": "bd9caad2",
   "metadata": {},
   "outputs": [
    {
     "data": {
      "text/plain": [
       "United States of America                                9800\n",
       "India                                                   3750\n",
       "Germany                                                 3221\n",
       "United Kingdom of Great Britain and Northern Ireland    2915\n",
       "Canada                                                  1721\n",
       "                                                        ... \n",
       "Dominica                                                   1\n",
       "Saint Kitts and Nevis                                      1\n",
       "Guinea                                                     1\n",
       "Monaco                                                     1\n",
       "North Korea                                                1\n",
       "Name: Country, Length: 171, dtype: int64"
      ]
     },
     "execution_count": 21,
     "metadata": {},
     "output_type": "execute_result"
    }
   ],
   "source": [
    "df['Country'].value_counts()"
   ]
  },
  {
   "cell_type": "code",
   "execution_count": 22,
   "id": "16969102",
   "metadata": {},
   "outputs": [],
   "source": [
    "def shorten_categories(categories,cutoff):\n",
    "    categorical_map = {}\n",
    "    for i in range(len(categories)):\n",
    "        if(categories[i]>=cutoff):\n",
    "            categorical_map[categories.index[i]] = categories.index[i]\n",
    "            #print(categories.index[i])\n",
    "        else:\n",
    "            categorical_map[categories.index[i]] = 'Other'\n",
    "    #print(categorical_map)\n",
    "    return categorical_map"
   ]
  },
  {
   "cell_type": "code",
   "execution_count": 23,
   "id": "868ea0b3",
   "metadata": {},
   "outputs": [
    {
     "data": {
      "text/plain": [
       "United States of America                                9800\n",
       "Other                                                   9530\n",
       "India                                                   3750\n",
       "Germany                                                 3221\n",
       "United Kingdom of Great Britain and Northern Ireland    2915\n",
       "Canada                                                  1721\n",
       "France                                                  1619\n",
       "Brazil                                                  1572\n",
       "Poland                                                  1106\n",
       "Netherlands                                             1052\n",
       "Spain                                                   1027\n",
       "Australia                                                948\n",
       "Italy                                                    917\n",
       "Russian Federation                                       871\n",
       "Sweden                                                   820\n",
       "Switzerland                                              561\n",
       "Turkey                                                   528\n",
       "Israel                                                   480\n",
       "Ukraine                                                  461\n",
       "Mexico                                                   451\n",
       "Iran, Islamic Republic of...                             450\n",
       "Austria                                                  448\n",
       "Czech Republic                                           448\n",
       "Norway                                                   426\n",
       "Belgium                                                  425\n",
       "Argentina                                                407\n",
       "Denmark                                                  405\n",
       "Name: Country, dtype: int64"
      ]
     },
     "execution_count": 23,
     "metadata": {},
     "output_type": "execute_result"
    }
   ],
   "source": [
    "country_map = shorten_categories(df.Country.value_counts(), 400)\n",
    "df['Country'] = df['Country'].map(country_map)\n",
    "df.Country.value_counts()"
   ]
  },
  {
   "cell_type": "code",
   "execution_count": 24,
   "id": "ae3eba2c",
   "metadata": {},
   "outputs": [
    {
     "data": {
      "text/html": [
       "<div>\n",
       "<style scoped>\n",
       "    .dataframe tbody tr th:only-of-type {\n",
       "        vertical-align: middle;\n",
       "    }\n",
       "\n",
       "    .dataframe tbody tr th {\n",
       "        vertical-align: top;\n",
       "    }\n",
       "\n",
       "    .dataframe thead th {\n",
       "        text-align: right;\n",
       "    }\n",
       "</style>\n",
       "<table border=\"1\" class=\"dataframe\">\n",
       "  <thead>\n",
       "    <tr style=\"text-align: right;\">\n",
       "      <th></th>\n",
       "      <th>Employment</th>\n",
       "      <th>EdLevel</th>\n",
       "      <th>Country</th>\n",
       "      <th>YearsCodePro</th>\n",
       "      <th>Salary</th>\n",
       "    </tr>\n",
       "  </thead>\n",
       "  <tbody>\n",
       "    <tr>\n",
       "      <th>9</th>\n",
       "      <td>Employed full-time</td>\n",
       "      <td>Master’s degree</td>\n",
       "      <td>Sweden</td>\n",
       "      <td>4.0</td>\n",
       "      <td>51552.0</td>\n",
       "    </tr>\n",
       "    <tr>\n",
       "      <th>11</th>\n",
       "      <td>Employed full-time</td>\n",
       "      <td>Bachelor’s degree</td>\n",
       "      <td>Spain</td>\n",
       "      <td>5.0</td>\n",
       "      <td>46482.0</td>\n",
       "    </tr>\n",
       "    <tr>\n",
       "      <th>12</th>\n",
       "      <td>Employed full-time</td>\n",
       "      <td>Master’s degree</td>\n",
       "      <td>Germany</td>\n",
       "      <td>6.0</td>\n",
       "      <td>77290.0</td>\n",
       "    </tr>\n",
       "    <tr>\n",
       "      <th>16</th>\n",
       "      <td>Employed full-time</td>\n",
       "      <td>Bachelor’s degree</td>\n",
       "      <td>Turkey</td>\n",
       "      <td>2.0</td>\n",
       "      <td>17748.0</td>\n",
       "    </tr>\n",
       "    <tr>\n",
       "      <th>17</th>\n",
       "      <td>Employed full-time</td>\n",
       "      <td>Bachelor’s degree</td>\n",
       "      <td>Canada</td>\n",
       "      <td>6.0</td>\n",
       "      <td>46135.0</td>\n",
       "    </tr>\n",
       "    <tr>\n",
       "      <th>18</th>\n",
       "      <td>prefer not to say</td>\n",
       "      <td>Post grad</td>\n",
       "      <td>Other</td>\n",
       "      <td>30.0</td>\n",
       "      <td>160932.0</td>\n",
       "    </tr>\n",
       "    <tr>\n",
       "      <th>23</th>\n",
       "      <td>Employed full-time</td>\n",
       "      <td>Master’s degree</td>\n",
       "      <td>France</td>\n",
       "      <td>2.0</td>\n",
       "      <td>38915.0</td>\n",
       "    </tr>\n",
       "    <tr>\n",
       "      <th>24</th>\n",
       "      <td>Employed full-time</td>\n",
       "      <td>Master’s degree</td>\n",
       "      <td>Germany</td>\n",
       "      <td>18.0</td>\n",
       "      <td>77831.0</td>\n",
       "    </tr>\n",
       "    <tr>\n",
       "      <th>26</th>\n",
       "      <td>Employed full-time</td>\n",
       "      <td>Master’s degree</td>\n",
       "      <td>Switzerland</td>\n",
       "      <td>5.0</td>\n",
       "      <td>81319.0</td>\n",
       "    </tr>\n",
       "    <tr>\n",
       "      <th>27</th>\n",
       "      <td>Employed full-time</td>\n",
       "      <td>Bachelor’s degree</td>\n",
       "      <td>United Kingdom of Great Britain and Northern I...</td>\n",
       "      <td>21.0</td>\n",
       "      <td>68507.0</td>\n",
       "    </tr>\n",
       "  </tbody>\n",
       "</table>\n",
       "</div>"
      ],
      "text/plain": [
       "            Employment            EdLevel  \\\n",
       "9   Employed full-time    Master’s degree   \n",
       "11  Employed full-time  Bachelor’s degree   \n",
       "12  Employed full-time    Master’s degree   \n",
       "16  Employed full-time  Bachelor’s degree   \n",
       "17  Employed full-time  Bachelor’s degree   \n",
       "18   prefer not to say          Post grad   \n",
       "23  Employed full-time    Master’s degree   \n",
       "24  Employed full-time    Master’s degree   \n",
       "26  Employed full-time    Master’s degree   \n",
       "27  Employed full-time  Bachelor’s degree   \n",
       "\n",
       "                                              Country  YearsCodePro    Salary  \n",
       "9                                              Sweden           4.0   51552.0  \n",
       "11                                              Spain           5.0   46482.0  \n",
       "12                                            Germany           6.0   77290.0  \n",
       "16                                             Turkey           2.0   17748.0  \n",
       "17                                             Canada           6.0   46135.0  \n",
       "18                                              Other          30.0  160932.0  \n",
       "23                                             France           2.0   38915.0  \n",
       "24                                            Germany          18.0   77831.0  \n",
       "26                                        Switzerland           5.0   81319.0  \n",
       "27  United Kingdom of Great Britain and Northern I...          21.0   68507.0  "
      ]
     },
     "execution_count": 24,
     "metadata": {},
     "output_type": "execute_result"
    }
   ],
   "source": [
    "df.head(10)"
   ]
  },
  {
   "cell_type": "code",
   "execution_count": 25,
   "id": "13962dbb",
   "metadata": {},
   "outputs": [],
   "source": [
    "from sklearn.preprocessing import LabelEncoder"
   ]
  },
  {
   "cell_type": "code",
   "execution_count": 26,
   "id": "b3ab6880",
   "metadata": {},
   "outputs": [
    {
     "data": {
      "text/plain": [
       "array([2, 0, 3, 1])"
      ]
     },
     "execution_count": 26,
     "metadata": {},
     "output_type": "execute_result"
    }
   ],
   "source": [
    "le_education=LabelEncoder()\n",
    "df['EdLevel']=le_education.fit_transform(df['EdLevel'])\n",
    "df['EdLevel'].unique()"
   ]
  },
  {
   "cell_type": "code",
   "execution_count": 27,
   "id": "a4bfada7",
   "metadata": {},
   "outputs": [
    {
     "data": {
      "text/plain": [
       "array([21, 20,  9, 23,  5, 17,  8, 22, 25, 19, 12, 24, 26,  4, 13, 15, 18,\n",
       "        2, 10,  7,  1,  3, 11,  0, 16,  6, 14])"
      ]
     },
     "execution_count": 27,
     "metadata": {},
     "output_type": "execute_result"
    }
   ],
   "source": [
    "le_country=LabelEncoder()\n",
    "df['Country']=le_country.fit_transform(df['Country'])\n",
    "df['Country'].unique()"
   ]
  },
  {
   "cell_type": "code",
   "execution_count": 28,
   "id": "fe43cabc",
   "metadata": {},
   "outputs": [
    {
     "data": {
      "text/plain": [
       "array([0, 3, 4, 1, 2])"
      ]
     },
     "execution_count": 28,
     "metadata": {},
     "output_type": "execute_result"
    }
   ],
   "source": [
    "le_emp=LabelEncoder()\n",
    "df['Employment']=le_emp.fit_transform(df['Employment'])\n",
    "df['Employment'].unique()"
   ]
  },
  {
   "cell_type": "code",
   "execution_count": 29,
   "id": "cfa5f2cd",
   "metadata": {},
   "outputs": [
    {
     "data": {
      "text/html": [
       "<div>\n",
       "<style scoped>\n",
       "    .dataframe tbody tr th:only-of-type {\n",
       "        vertical-align: middle;\n",
       "    }\n",
       "\n",
       "    .dataframe tbody tr th {\n",
       "        vertical-align: top;\n",
       "    }\n",
       "\n",
       "    .dataframe thead th {\n",
       "        text-align: right;\n",
       "    }\n",
       "</style>\n",
       "<table border=\"1\" class=\"dataframe\">\n",
       "  <thead>\n",
       "    <tr style=\"text-align: right;\">\n",
       "      <th></th>\n",
       "      <th>Employment</th>\n",
       "      <th>EdLevel</th>\n",
       "      <th>Country</th>\n",
       "      <th>YearsCodePro</th>\n",
       "      <th>Salary</th>\n",
       "    </tr>\n",
       "  </thead>\n",
       "  <tbody>\n",
       "    <tr>\n",
       "      <th>9</th>\n",
       "      <td>0</td>\n",
       "      <td>2</td>\n",
       "      <td>21</td>\n",
       "      <td>4.0</td>\n",
       "      <td>51552.0</td>\n",
       "    </tr>\n",
       "    <tr>\n",
       "      <th>11</th>\n",
       "      <td>0</td>\n",
       "      <td>0</td>\n",
       "      <td>20</td>\n",
       "      <td>5.0</td>\n",
       "      <td>46482.0</td>\n",
       "    </tr>\n",
       "    <tr>\n",
       "      <th>12</th>\n",
       "      <td>0</td>\n",
       "      <td>2</td>\n",
       "      <td>9</td>\n",
       "      <td>6.0</td>\n",
       "      <td>77290.0</td>\n",
       "    </tr>\n",
       "    <tr>\n",
       "      <th>16</th>\n",
       "      <td>0</td>\n",
       "      <td>0</td>\n",
       "      <td>23</td>\n",
       "      <td>2.0</td>\n",
       "      <td>17748.0</td>\n",
       "    </tr>\n",
       "    <tr>\n",
       "      <th>17</th>\n",
       "      <td>0</td>\n",
       "      <td>0</td>\n",
       "      <td>5</td>\n",
       "      <td>6.0</td>\n",
       "      <td>46135.0</td>\n",
       "    </tr>\n",
       "  </tbody>\n",
       "</table>\n",
       "</div>"
      ],
      "text/plain": [
       "    Employment  EdLevel  Country  YearsCodePro   Salary\n",
       "9            0        2       21           4.0  51552.0\n",
       "11           0        0       20           5.0  46482.0\n",
       "12           0        2        9           6.0  77290.0\n",
       "16           0        0       23           2.0  17748.0\n",
       "17           0        0        5           6.0  46135.0"
      ]
     },
     "execution_count": 29,
     "metadata": {},
     "output_type": "execute_result"
    }
   ],
   "source": [
    "df.head()"
   ]
  },
  {
   "cell_type": "code",
   "execution_count": 30,
   "id": "88684b35",
   "metadata": {},
   "outputs": [],
   "source": [
    "X=df.drop('Salary',axis=1)\n",
    "Y=df['Salary']"
   ]
  },
  {
   "cell_type": "code",
   "execution_count": 31,
   "id": "438171bd",
   "metadata": {},
   "outputs": [],
   "source": [
    "from sklearn.linear_model import LinearRegression"
   ]
  },
  {
   "cell_type": "code",
   "execution_count": 32,
   "id": "2f780cca",
   "metadata": {},
   "outputs": [],
   "source": [
    "lreg=LinearRegression()"
   ]
  },
  {
   "cell_type": "code",
   "execution_count": 33,
   "id": "12d6837e",
   "metadata": {},
   "outputs": [
    {
     "data": {
      "text/plain": [
       "9         51552.0\n",
       "11        46482.0\n",
       "12        77290.0\n",
       "16        17748.0\n",
       "17        46135.0\n",
       "           ...   \n",
       "83434    160500.0\n",
       "83435      3960.0\n",
       "83436     90000.0\n",
       "83437    816816.0\n",
       "83438     21168.0\n",
       "Name: Salary, Length: 46359, dtype: float64"
      ]
     },
     "execution_count": 33,
     "metadata": {},
     "output_type": "execute_result"
    }
   ],
   "source": [
    "Y"
   ]
  },
  {
   "cell_type": "code",
   "execution_count": 34,
   "id": "aaa070de",
   "metadata": {},
   "outputs": [
    {
     "data": {
      "text/plain": [
       "LinearRegression()"
      ]
     },
     "execution_count": 34,
     "metadata": {},
     "output_type": "execute_result"
    }
   ],
   "source": [
    "lreg.fit(X,Y.values)"
   ]
  },
  {
   "cell_type": "code",
   "execution_count": 35,
   "id": "1efba832",
   "metadata": {},
   "outputs": [],
   "source": [
    "y_pred = lreg.predict(X)"
   ]
  },
  {
   "cell_type": "code",
   "execution_count": 36,
   "id": "1ac0a53c",
   "metadata": {},
   "outputs": [],
   "source": [
    "from sklearn.metrics import mean_absolute_error,mean_squared_error\n",
    "import numpy as np\n",
    "error=np.sqrt(mean_absolute_error(Y,y_pred))"
   ]
  },
  {
   "cell_type": "code",
   "execution_count": 37,
   "id": "2b79e1fb",
   "metadata": {},
   "outputs": [
    {
     "data": {
      "text/plain": [
       "331.35438792837857"
      ]
     },
     "execution_count": 37,
     "metadata": {},
     "output_type": "execute_result"
    }
   ],
   "source": [
    "error"
   ]
  },
  {
   "cell_type": "code",
   "execution_count": 38,
   "id": "112d428f",
   "metadata": {},
   "outputs": [],
   "source": [
    "from sklearn.tree import DecisionTreeRegressor"
   ]
  },
  {
   "cell_type": "code",
   "execution_count": 39,
   "id": "e6a4cc4d",
   "metadata": {},
   "outputs": [],
   "source": [
    "dreg=DecisionTreeRegressor()"
   ]
  },
  {
   "cell_type": "code",
   "execution_count": 40,
   "id": "15b3194f",
   "metadata": {},
   "outputs": [
    {
     "data": {
      "text/plain": [
       "DecisionTreeRegressor()"
      ]
     },
     "execution_count": 40,
     "metadata": {},
     "output_type": "execute_result"
    }
   ],
   "source": [
    "dreg.fit(X,Y.values)"
   ]
  },
  {
   "cell_type": "code",
   "execution_count": 41,
   "id": "7903ab98",
   "metadata": {},
   "outputs": [],
   "source": [
    "y_pred=dreg.predict(X)"
   ]
  },
  {
   "cell_type": "code",
   "execution_count": 42,
   "id": "5f73dd11",
   "metadata": {},
   "outputs": [],
   "source": [
    "error=np.sqrt(mean_absolute_error(Y,y_pred))"
   ]
  },
  {
   "cell_type": "code",
   "execution_count": 43,
   "id": "87c77c68",
   "metadata": {},
   "outputs": [
    {
     "data": {
      "text/plain": [
       "313.7030580758749"
      ]
     },
     "execution_count": 43,
     "metadata": {},
     "output_type": "execute_result"
    }
   ],
   "source": [
    "error"
   ]
  },
  {
   "cell_type": "code",
   "execution_count": 44,
   "id": "394393c0",
   "metadata": {},
   "outputs": [
    {
     "data": {
      "text/plain": [
       "GridSearchCV(estimator=DecisionTreeRegressor(random_state=0),\n",
       "             param_grid={'max_depth': [None, 2, 4, 6, 8, 10, 12]},\n",
       "             scoring='neg_mean_squared_error')"
      ]
     },
     "execution_count": 44,
     "metadata": {},
     "output_type": "execute_result"
    }
   ],
   "source": [
    "from sklearn.model_selection import GridSearchCV\n",
    "\n",
    "max_depth = [None, 2,4,6,8,10,12]\n",
    "parameters = {\"max_depth\": max_depth}\n",
    "\n",
    "regressor = DecisionTreeRegressor(random_state=0)\n",
    "gs = GridSearchCV(regressor, parameters, scoring='neg_mean_squared_error')\n",
    "gs.fit(X, Y.values)"
   ]
  },
  {
   "cell_type": "code",
   "execution_count": 45,
   "id": "bcfcd3c2",
   "metadata": {},
   "outputs": [
    {
     "name": "stdout",
     "output_type": "stream",
     "text": [
      "$522,423.45\n"
     ]
    }
   ],
   "source": [
    "regressor = gs.best_estimator_\n",
    "\n",
    "regressor.fit(X, Y.values)\n",
    "y_pred = regressor.predict(X)\n",
    "error = np.sqrt(mean_squared_error(Y, y_pred))\n",
    "print(\"${:,.02f}\".format(error))"
   ]
  },
  {
   "cell_type": "markdown",
   "id": "c9033ed6",
   "metadata": {},
   "source": [
    "# Saving the model\n",
    "\n",
    "## Decision tree Regressor"
   ]
  },
  {
   "cell_type": "code",
   "execution_count": 46,
   "id": "f2c5d6f6",
   "metadata": {},
   "outputs": [],
   "source": [
    "import pickle as pkl"
   ]
  },
  {
   "cell_type": "code",
   "execution_count": 47,
   "id": "26f131a0",
   "metadata": {},
   "outputs": [],
   "source": [
    "data={\"model\":dreg,\"le_emp\":le_emp,\"le_education\":le_education,\"le_country\":le_country}\n",
    "with open('save_model.pkl','wb') as file:\n",
    "    pkl.dump(data,file)"
   ]
  },
  {
   "cell_type": "code",
   "execution_count": 48,
   "id": "5e37d76c",
   "metadata": {},
   "outputs": [],
   "source": [
    "with open('save_model.pkl','rb') as file:\n",
    "    data=pkl.load(file)"
   ]
  },
  {
   "cell_type": "code",
   "execution_count": 49,
   "id": "7f939b8e",
   "metadata": {},
   "outputs": [],
   "source": [
    "regressor_loaded = data[\"model\"]\n",
    "le_emp=data[\"le_emp\"]\n",
    "le_country = data[\"le_country\"]\n",
    "le_education = data[\"le_education\"]"
   ]
  },
  {
   "cell_type": "code",
   "execution_count": 50,
   "id": "03864f91",
   "metadata": {},
   "outputs": [],
   "source": [
    "X = np.array([[\"Employed part-time\",\"Bachelor’s degree\",\"Germany\",5]])"
   ]
  },
  {
   "cell_type": "code",
   "execution_count": 51,
   "id": "3bb8198d",
   "metadata": {},
   "outputs": [],
   "source": [
    "X[:,0]=le_emp.transform(X[:,0])"
   ]
  },
  {
   "cell_type": "code",
   "execution_count": 52,
   "id": "edfa7817",
   "metadata": {},
   "outputs": [],
   "source": [
    "X[:,1]=le_education.transform(X[:,1])"
   ]
  },
  {
   "cell_type": "code",
   "execution_count": 53,
   "id": "5e716de9",
   "metadata": {},
   "outputs": [],
   "source": [
    "X[:2]=le_country.transform(X[:,2])"
   ]
  },
  {
   "cell_type": "code",
   "execution_count": 54,
   "id": "2621b7d9",
   "metadata": {},
   "outputs": [],
   "source": [
    "X = X.astype(float)"
   ]
  },
  {
   "cell_type": "code",
   "execution_count": 55,
   "id": "2c8c5236",
   "metadata": {},
   "outputs": [
    {
     "name": "stderr",
     "output_type": "stream",
     "text": [
      "C:\\Anaconda\\envs\\ml\\lib\\site-packages\\sklearn\\base.py:450: UserWarning: X does not have valid feature names, but DecisionTreeRegressor was fitted with feature names\n",
      "  warnings.warn(\n"
     ]
    }
   ],
   "source": [
    "y_p=regressor_loaded.predict(X)"
   ]
  },
  {
   "cell_type": "code",
   "execution_count": 56,
   "id": "f257979d",
   "metadata": {},
   "outputs": [
    {
     "data": {
      "text/plain": [
       "array([129718.])"
      ]
     },
     "execution_count": 56,
     "metadata": {},
     "output_type": "execute_result"
    }
   ],
   "source": [
    "y_p"
   ]
  },
  {
   "cell_type": "code",
   "execution_count": 57,
   "id": "c8a02e7f",
   "metadata": {},
   "outputs": [
    {
     "data": {
      "text/plain": [
       "129718.0"
      ]
     },
     "execution_count": 57,
     "metadata": {},
     "output_type": "execute_result"
    }
   ],
   "source": [
    "y_p[0]"
   ]
  },
  {
   "cell_type": "code",
   "execution_count": 58,
   "id": "d1480e13",
   "metadata": {},
   "outputs": [],
   "source": [
    "c=df[df['Salary']>=y_p[0]]"
   ]
  },
  {
   "cell_type": "code",
   "execution_count": 62,
   "id": "94a9804a",
   "metadata": {},
   "outputs": [],
   "source": [
    "sorted_df = c.sort_values(by='Salary')"
   ]
  },
  {
   "cell_type": "code",
   "execution_count": 64,
   "id": "81067b7c",
   "metadata": {},
   "outputs": [
    {
     "data": {
      "text/html": [
       "<div>\n",
       "<style scoped>\n",
       "    .dataframe tbody tr th:only-of-type {\n",
       "        vertical-align: middle;\n",
       "    }\n",
       "\n",
       "    .dataframe tbody tr th {\n",
       "        vertical-align: top;\n",
       "    }\n",
       "\n",
       "    .dataframe thead th {\n",
       "        text-align: right;\n",
       "    }\n",
       "</style>\n",
       "<table border=\"1\" class=\"dataframe\">\n",
       "  <thead>\n",
       "    <tr style=\"text-align: right;\">\n",
       "      <th></th>\n",
       "      <th>Employment</th>\n",
       "      <th>EdLevel</th>\n",
       "      <th>Country</th>\n",
       "      <th>YearsCodePro</th>\n",
       "      <th>Salary</th>\n",
       "    </tr>\n",
       "  </thead>\n",
       "  <tbody>\n",
       "    <tr>\n",
       "      <th>7205</th>\n",
       "      <td>4</td>\n",
       "      <td>0</td>\n",
       "      <td>26</td>\n",
       "      <td>20.0</td>\n",
       "      <td>12500000.0</td>\n",
       "    </tr>\n",
       "    <tr>\n",
       "      <th>66488</th>\n",
       "      <td>0</td>\n",
       "      <td>1</td>\n",
       "      <td>26</td>\n",
       "      <td>3.0</td>\n",
       "      <td>12750000.0</td>\n",
       "    </tr>\n",
       "    <tr>\n",
       "      <th>12903</th>\n",
       "      <td>0</td>\n",
       "      <td>0</td>\n",
       "      <td>17</td>\n",
       "      <td>1.0</td>\n",
       "      <td>14411628.0</td>\n",
       "    </tr>\n",
       "    <tr>\n",
       "      <th>5305</th>\n",
       "      <td>4</td>\n",
       "      <td>3</td>\n",
       "      <td>26</td>\n",
       "      <td>5.0</td>\n",
       "      <td>15000000.0</td>\n",
       "    </tr>\n",
       "    <tr>\n",
       "      <th>9608</th>\n",
       "      <td>0</td>\n",
       "      <td>0</td>\n",
       "      <td>26</td>\n",
       "      <td>21.0</td>\n",
       "      <td>17500000.0</td>\n",
       "    </tr>\n",
       "    <tr>\n",
       "      <th>12700</th>\n",
       "      <td>0</td>\n",
       "      <td>2</td>\n",
       "      <td>10</td>\n",
       "      <td>5.0</td>\n",
       "      <td>19200000.0</td>\n",
       "    </tr>\n",
       "    <tr>\n",
       "      <th>28791</th>\n",
       "      <td>0</td>\n",
       "      <td>0</td>\n",
       "      <td>10</td>\n",
       "      <td>9.0</td>\n",
       "      <td>20000000.0</td>\n",
       "    </tr>\n",
       "    <tr>\n",
       "      <th>40586</th>\n",
       "      <td>0</td>\n",
       "      <td>1</td>\n",
       "      <td>26</td>\n",
       "      <td>13.0</td>\n",
       "      <td>21822250.0</td>\n",
       "    </tr>\n",
       "    <tr>\n",
       "      <th>65399</th>\n",
       "      <td>0</td>\n",
       "      <td>2</td>\n",
       "      <td>17</td>\n",
       "      <td>3.0</td>\n",
       "      <td>30468516.0</td>\n",
       "    </tr>\n",
       "    <tr>\n",
       "      <th>66910</th>\n",
       "      <td>3</td>\n",
       "      <td>1</td>\n",
       "      <td>3</td>\n",
       "      <td>21.0</td>\n",
       "      <td>45241312.0</td>\n",
       "    </tr>\n",
       "  </tbody>\n",
       "</table>\n",
       "</div>"
      ],
      "text/plain": [
       "       Employment  EdLevel  Country  YearsCodePro      Salary\n",
       "7205            4        0       26          20.0  12500000.0\n",
       "66488           0        1       26           3.0  12750000.0\n",
       "12903           0        0       17           1.0  14411628.0\n",
       "5305            4        3       26           5.0  15000000.0\n",
       "9608            0        0       26          21.0  17500000.0\n",
       "12700           0        2       10           5.0  19200000.0\n",
       "28791           0        0       10           9.0  20000000.0\n",
       "40586           0        1       26          13.0  21822250.0\n",
       "65399           0        2       17           3.0  30468516.0\n",
       "66910           3        1        3          21.0  45241312.0"
      ]
     },
     "execution_count": 64,
     "metadata": {},
     "output_type": "execute_result"
    }
   ],
   "source": [
    "sorted_df.tail(10)"
   ]
  },
  {
   "cell_type": "code",
   "execution_count": null,
   "id": "463916e0",
   "metadata": {},
   "outputs": [],
   "source": []
  }
 ],
 "metadata": {
  "kernelspec": {
   "display_name": "ml",
   "language": "python",
   "name": "ml"
  },
  "language_info": {
   "codemirror_mode": {
    "name": "ipython",
    "version": 3
   },
   "file_extension": ".py",
   "mimetype": "text/x-python",
   "name": "python",
   "nbconvert_exporter": "python",
   "pygments_lexer": "ipython3",
   "version": "3.9.12"
  }
 },
 "nbformat": 4,
 "nbformat_minor": 5
}
